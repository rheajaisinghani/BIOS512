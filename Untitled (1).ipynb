{
 "cells": [
  {
   "cell_type": "code",
   "execution_count": 3,
   "metadata": {},
   "outputs": [
    {
     "name": "stderr",
     "output_type": "stream",
     "text": [
      "── \u001b[1mAttaching packages\u001b[22m ─────────────────────────────────────── tidyverse 1.3.0 ──\n",
      "\n",
      "\u001b[32m✔\u001b[39m \u001b[34mggplot2\u001b[39m 3.3.2     \u001b[32m✔\u001b[39m \u001b[34mpurrr  \u001b[39m 0.3.4\n",
      "\u001b[32m✔\u001b[39m \u001b[34mtibble \u001b[39m 3.0.4     \u001b[32m✔\u001b[39m \u001b[34mdplyr  \u001b[39m 1.0.2\n",
      "\u001b[32m✔\u001b[39m \u001b[34mtidyr  \u001b[39m 1.1.2     \u001b[32m✔\u001b[39m \u001b[34mstringr\u001b[39m 1.4.0\n",
      "\u001b[32m✔\u001b[39m \u001b[34mreadr  \u001b[39m 1.4.0     \u001b[32m✔\u001b[39m \u001b[34mforcats\u001b[39m 0.5.0\n",
      "\n",
      "── \u001b[1mConflicts\u001b[22m ────────────────────────────────────────── tidyverse_conflicts() ──\n",
      "\u001b[31m✖\u001b[39m \u001b[34mdplyr\u001b[39m::\u001b[32mfilter()\u001b[39m masks \u001b[34mstats\u001b[39m::filter()\n",
      "\u001b[31m✖\u001b[39m \u001b[34mdplyr\u001b[39m::\u001b[32mlag()\u001b[39m    masks \u001b[34mstats\u001b[39m::lag()\n",
      "\n",
      "\n",
      "\u001b[36m──\u001b[39m \u001b[1m\u001b[1mColumn specification\u001b[1m\u001b[22m \u001b[36m────────────────────────────────────────────────────────\u001b[39m\n",
      "cols(\n",
      "  time = \u001b[31mcol_character()\u001b[39m,\n",
      "  sugar = \u001b[32mcol_double()\u001b[39m,\n",
      "  charlie = \u001b[31mcol_character()\u001b[39m,\n",
      "  note = \u001b[31mcol_character()\u001b[39m,\n",
      "  alert = \u001b[31mcol_character()\u001b[39m,\n",
      "  retest = \u001b[31mcol_character()\u001b[39m,\n",
      "  reaction = \u001b[31mcol_character()\u001b[39m\n",
      ")\n",
      "\n",
      "\n"
     ]
    }
   ],
   "source": [
    "library(\"tidyverse\")\n",
    "eenp = read_csv(\"https://github.com/rheajaisinghani/BIOS512/raw/main/EENP.csv\")\n",
    "\n",
    "april_df = eenp %>% filter(str_detect(time, \"^4|^04\")) %>% arrange(time)\n",
    "sep_date = april_df %>%\n",
    "           select(time) %>%\n",
    "           mutate(date = gsub(\"4/\", \"04/\", time)) %>%\n",
    "           mutate(date = gsub(\"004/\", \"04/\", date)) %>%\n",
    "           mutate(time = gsub(\"4/\", \"04/\", time)) %>%\n",
    "           mutate(time = gsub(\"004/\", \"04/\", date)) %>%\n",
    "           mutate(date = str_sub(date, 1, 10)) %>%\n",
    "           mutate(time = str_sub(time, 12, -1))\n",
    "\n"
   ]
  },
  {
   "cell_type": "code",
   "execution_count": null,
   "metadata": {},
   "outputs": [],
   "source": [
    "fix_time = sep_date %>%\n",
    "           mutate(data = sep_date, for time {\n",
    "             if(str_sub(time, -2, -1) == \"AM\") time = str_sub(1, -3)\n",
    "           })"
   ]
  }
 ],
 "metadata": {
  "kernelspec": {
   "display_name": "R",
   "language": "R",
   "name": "ir"
  },
  "language_info": {
   "codemirror_mode": "r",
   "file_extension": ".r",
   "mimetype": "text/x-r-source",
   "name": "R",
   "pygments_lexer": "r",
   "version": "4.0.3"
  }
 },
 "nbformat": 4,
 "nbformat_minor": 4
}
